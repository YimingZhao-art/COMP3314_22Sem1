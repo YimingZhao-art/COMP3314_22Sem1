{
 "cells": [
  {
   "cell_type": "markdown",
   "metadata": {},
   "source": [
    "# COMP3314 HW1-Q1: Written Questions (50 points)\n",
    "\n",
    "Solve the following questions by hand. No need to implement any code. \n",
    "\n",
    "You should use Markdown to write texts and LaTex to write math equations. See this [documentation](https://jupyter-notebook.readthedocs.io/en/stable/examples/Notebook/Working%20With%20Markdown%20Cells.html) on how to use Markdown and LaTex in Jupyter Notebook."
   ]
  },
  {
   "cell_type": "markdown",
   "metadata": {},
   "source": [
    "## Q1-1: Perceptron Basics (5 points)\n",
    "\n",
    "### Question\n",
    "\n",
    "Consider a Perceptron with 2 inputs and 1 output. Let the weights of the Perceptron be $w_1 = 1$ and $w_2 = 1$ and let the bias be $w_0 = -1.5$. Calculate the output of the following inputs: $(0, 0), (1, 0), (0, 1), (1, 1)$."
   ]
  },
  {
   "cell_type": "markdown",
   "metadata": {},
   "source": [
    "### Answers\n",
    "\n",
    "$\\color{red} \\phi(z)= \\left\\{\\begin{matrix}1& if & z \\geqslant 0\\\\  -1& if & z< 0\\end{matrix}\\right.$\n",
    "\n",
    "$ x_{0} = 1 $\n",
    "<br></br>\n",
    "\n",
    "* $ X = (1,0,0) $\n",
    "\n",
    "    $ z = 1*-1.5 + 0 + 0 = -1.5 $\n",
    "\n",
    "    $ \\color{red} \\phi(z) = -1 $\n",
    "<br></br>\n",
    "\n",
    "* $ X = (1,1,0) $\n",
    "\n",
    "    $ z = 1*-1.5 + 1*1 + 0 = -0.5 $\n",
    "\n",
    "    $ \\color{red} \\phi(z) = -1 $\n",
    "<br></br>\n",
    "\n",
    "* $ X = (1,0,1) $\n",
    "\n",
    "    $ z = 1*-1.5 + 0 + 1*1 = -0.5 $\n",
    "\n",
    "    $ \\color{red} \\phi(z) = -1 $\n",
    "<br></br>\n",
    "\n",
    "* $ X = (1,1,1) $\n",
    "\n",
    "    $ z = 1*-1.5 + 1*1 + 1*1 = 0.5 $\n",
    "\n",
    "    $ \\color{red} \\phi(z) = 1 $"
   ]
  },
  {
   "cell_type": "markdown",
   "metadata": {},
   "source": [
    "## Q1-2: Boolean Operators (5 points)\n",
    "\n",
    "### Question\n",
    "\n",
    "In this question, we will review boolean operations. Assume the inputs 2-dimensional binary values of 0 (false) and 1 (true). For example, input $(x_1, x_2)$ can only have the following values: $(0, 0), (0, 1), (1, 0), (1, 1). Complete the following truth tables for `NOT`, `AND`, `OR`, `NAND`, `NOR`. \n",
    "\n",
    "You will use these truth tables in Q2, where you will implement perceptrons to compute these boolean operations."
   ]
  },
  {
   "cell_type": "markdown",
   "metadata": {},
   "source": [
    "### Answer\n",
    "\n",
    "`NOT`: (example table)\n",
    "\n",
    "| $x_1$ | output |\n",
    "| ----- | ------ |\n",
    "| 0     | 1      |\n",
    "| 1     | 0      |\n",
    "\n",
    "`AND`:\n",
    "\n",
    "| $x_1$ | $x_2$ | output |\n",
    "| ----- | ----- | ------ |\n",
    "| 0     | 0     |    0   |\n",
    "| 0     | 1     |    0   |\n",
    "| 1     | 0     |    0   |\n",
    "| 1     | 1     |    1   |\n",
    "\n",
    "`OR`:\n",
    "\n",
    "| $x_1$ | $x_2$ | output |\n",
    "| ----- | ----- | ------ |\n",
    "| 0     | 0     |   0    |\n",
    "| 0     | 1     |    1   |\n",
    "| 1     | 0     |   1    |\n",
    "| 1     | 1     |    1   |\n",
    "\n",
    "`NAND`:\n",
    "\n",
    "| $x_1$ | $x_2$  | output |\n",
    "| ----- | ------ | ------ |\n",
    "| 0     | 0      |   1    |\n",
    "| 0     | 1      |   1    |\n",
    "| 1     | 0      |   1    |\n",
    "| 1     | 1      |   0    |\n",
    "\n",
    "`NOR`:\n",
    "\n",
    "| $x_1$ | $x_2$ | output |\n",
    "| ----- | ----- | ------ |\n",
    "| 0     | 0     |   1    |\n",
    "| 0     | 1     |   0    |\n",
    "| 1     | 0     |   0    |\n",
    "| 1     | 1     |   0    |"
   ]
  },
  {
   "cell_type": "markdown",
   "metadata": {},
   "source": [
    "## Q1-3: Parity Check (5 points)\n",
    "\n",
    "### Question\n",
    "\n",
    "The parity problem returns 1 if the number of inputs that are 1 is even, and 0 otherwise. Can a perceptron learn this problem for 3 inputs? "
   ]
  },
  {
   "cell_type": "markdown",
   "metadata": {
    "id": "0AUwbFEaMiWi"
   },
   "source": [
    "### Answer\n",
    "\n",
    "It was shown that the convergence of the perceptron is only guaranteed if the two classes are $\\color{red} \\bold{linearly\\:separable}$ and the learning rate is sufficiently small.\n",
    "\n",
    "$ X = [x_{1}, x_{2}, x_{3}]$\n",
    "\n",
    "We have 8 cases in total.\n",
    "\n",
    "Class 1(Return 1):   \n",
    "$ X = [0,0,0]$, $ X = [0,1,1]$,$ X = [1,1,0]$,$ X = [1,0,1]$\n",
    "\n",
    "Class 2(Return 0):  \n",
    "$ X = [1,0,0]$,$ X = [0,1,0]$,$ X = [0,0,1]$,$ X = [1,1,1]$\n",
    "\n",
    "All these cases can be drawn in a 3-dimension area.\n",
    "\n",
    "They are the 8 vertices of a cube.\n",
    "\n",
    "Each class composes an orthogonal tetrahedron. Obviously, these 2 orthogonal tetrahedron can not be separate by a plane.\n",
    "\n",
    "Therefore, these two classes are not linearly separable. Perceptron $\\color{red} \\bold{cannot}$ learn this problem.\n",
    "\n"
   ]
  },
  {
   "cell_type": "markdown",
   "metadata": {},
   "source": [
    "## Q1-4 Support Vectors (5 points)"
   ]
  },
  {
   "cell_type": "markdown",
   "metadata": {},
   "source": [
    "### Question\n",
    "\n",
    "Suppose that the following are a set of point in two classes:\n",
    "\n",
    "*   Class1: $(1, 1), (1, 2), (2, 1)$\n",
    "*   Class2: $(0, 0), (1, 0), (0, 1)$\n",
    "\n",
    "1. Plot them and find the optimal separating line. What are the support vectors?\n",
    "2. What is the meaning of support vectors?"
   ]
  },
  {
   "cell_type": "code",
   "execution_count": 1,
   "metadata": {},
   "outputs": [
    {
     "data": {
      "image/png": "[encoded data removed]",
      "text/plain": [
       "<Figure size 360x360 with 1 Axes>"
      ]
     },
     "metadata": {
      "needs_background": "light"
     },
     "output_type": "display_data"
    }
   ],
   "source": [
    "%matplotlib inline\n",
    "import matplotlib.pyplot as plt\n",
    "import numpy as np\n",
    "\n",
    "# select setosa and versicolor\n",
    "c1 = np.array([[1, 1], [1, 2], [2, 1]])\n",
    "c2 = np.array([[0, 0], [1, 0], [0, 1]])\n",
    "# plot data\n",
    "plt.figure(figsize=(5, 5))\n",
    "plt.scatter(c1[:, 0], c1[:, 1], color='red', marker='o', label='class1')\n",
    "plt.scatter(c2[:, 0], c2[:, 1], color='blue', marker='x', label='class2')\n",
    "\n",
    "x = np.linspace(0, 1., 5)\n",
    "plt.plot(x, 1 - x, 'b--')\n",
    "x = np.linspace(0, 2., 5)\n",
    "plt.plot(x, 2 - x, 'r--')\n",
    "x = np.linspace(0, 1.5, 5)\n",
    "plt.plot(x, 1.5 - x, 'y-')\n",
    "\n",
    "plt.xlim(-0.2, 2.5)\n",
    "plt.ylim(-0.2, 2.5)\n",
    "plt.grid(True)\n",
    "plt.tight_layout()\n",
    "plt.show()"
   ]
  },
  {
   "cell_type": "markdown",
   "metadata": {},
   "source": [
    "### Answer\n",
    "\n",
    "\n",
    "1. Support Vectors\n",
    "\n",
    "    $ \\vec{v_{1}} = (1,0) $\n",
    " \n",
    "    $ \\vec{v_{2}} = (0,1) $\n",
    "\n",
    "    $ \\vec{v_{3}} = (1,1) $\n",
    "\n",
    "2. Support vectors are data points that lie on the borders of hyperplane margins. These points(vectors) determines the position and orientation of the hyperplane. "
   ]
  },
  {
   "cell_type": "markdown",
   "metadata": {},
   "source": [
    "## Q1-5: Entropy (5 points)"
   ]
  },
  {
   "cell_type": "markdown",
   "metadata": {},
   "source": [
    "### Question\n",
    "\n",
    "Suppose that the probability of five events:\n",
    "\n",
    "- $P(\\text{first}) = 0.5$\n",
    "- $P(\\text{second}) = 0.125$\n",
    "- $P(\\text{third}) = 0.125$\n",
    "- $P(\\text{fourth}) = 0.125$\n",
    "- $P(\\text{fifth}) = 0.125$\n",
    "  \n",
    "Calculate the entropy and write down in words what this means. "
   ]
  },
  {
   "cell_type": "markdown",
   "metadata": {},
   "source": [
    "### Answer\n",
    "\n",
    "$ I_{H} = -\\sum_{i=1}^{5}\\mathbb{P}(i^{th}\\;event)\\log_{2}\\mathbb{P}(i^{th}\\;event) $\n",
    "\n",
    "$\\color{red} I_{H} = -(0.5*log_{2}0.5+ 0.125*log_{2}0.125  + 0.125*log_{2}0.125+ 0.125*log_{2}0.125+ 0.125*log_{2}0.125 ) = 2$\n",
    "\n",
    "\n",
    "**Entropy** is a measure of the disorder or randomness of a system. The higher the entrophy, the more chaotic the system is.\n"
   ]
  },
  {
   "cell_type": "markdown",
   "metadata": {},
   "source": [
    "## Q1-6: Decision Tree (25 points)"
   ]
  },
  {
   "cell_type": "markdown",
   "metadata": {},
   "source": [
    "### Question\n",
    "\n",
    "The [new energy vehicle (NEV)](https://www.google.com/search?q=new+energy+vehicle) is the growing trend in the automotive industry to replace traditional gas-powered vehicles. Consider a dataset of customer preference for vehicles. Here are the possible values for each feature:\n",
    "\n",
    "- Engine: {Gas, NEV}\n",
    "- Style: {Sedan, SUV}\n",
    "- Price: {Regular, Luxury}\n",
    "\n",
    "Here is the dataset:\n",
    "\n",
    "| Engine | Style | Price   | Preference? |\n",
    "|--------|-------|---------|-------------|\n",
    "| Gas    | Sedan | Regular | Yes         |\n",
    "| Gas    | Sedan | Regular | No          |\n",
    "| Gas    | Sedan | Luxury  | No          |\n",
    "| Gas    | Sedan | Luxury  | No          |\n",
    "| Gas    | SUV   | Regular | Yes         |\n",
    "| Gas    | SUV   | Luxury  | Yes         |\n",
    "| Gas    | SUV   | Luxury  | No          |\n",
    "| NEV    | Sedan | Regular | Yes         |\n",
    "| NEV    | Sedan | Regular | Yes         |\n",
    "| NEV    | Sedan | Luxury  | Yes         |\n",
    "| NEV    | Sedan | Luxury  | Yes         |\n",
    "| NEV    | SUV   | Regular | No          |\n",
    "| NEV    | SUV   | Regular | Yes         |\n",
    "| NEV    | SUV   | Regular | Yes         |\n",
    "| NEV    | SUV   | Luxury  | Yes         |\n",
    "| NEV    | SUV   | Luxury  | No          |\n",
    "\n",
    "Note that samples with the same features can have different labels. If the leaf node of a decision tree is not pure, the majority vote is used to determine the output label.\n",
    "\n",
    "Now, you want to build a decision tree to predict the preference of a customer. In particular, you want to know which feature (among Engine, Style, and Price) is the most important feature to predict the preference. In other words, which feature should be the root node of the decision tree to maximize the information gain?\n",
    "\n",
    "Your tasks:\n",
    "\n",
    "1. Compute Gini impurity at the root node. (5 points)\n",
    "2. For the 3 features (Engine, Style, and Price), compute the information gain if that feature is used split the root node. (15 points)\n",
    "3. Conclude which feature is the most important feature to predict the preference as it maximizes the information gain. (5 points)"
   ]
  },
  {
   "cell_type": "markdown",
   "metadata": {},
   "source": [
    "## Answer\n",
    "\n",
    "1. Compute Gini impurity at the root.\n",
    "    \n",
    "    $ \\color{red} I_{G} = 1 - \\frac{10}{16}^{2}- \\frac{6}{16}^{2} = 0.46875$ \n",
    "    "
   ]
  },
  {
   "cell_type": "markdown",
   "metadata": {},
   "source": [
    "\n",
    "\n",
    "2. Compute _**information gain**_ with different root nodes.\n",
    "    * `Engine`\n",
    "\n",
    "        | Preference  | Gas | NEV |\n",
    "        | ----- | ------ | ------ |\n",
    "        | Yes    | 3     |   7     |\n",
    "        | No    | 4     |     2   |\n",
    "\n",
    "        $ I_{G}(GAS) = 1 - \\frac{3}{7}^{2}- \\frac{4}{7}^{2} = 0.4898 $\n",
    "\n",
    "        $ I_{G}(NEV) = 1 - \\frac{7}{9}^{2}- \\frac{2}{9}^{2} = 0.3457 $\n",
    "\n",
    "        $ IG(Engine) = I_{G} - \\frac{7}{16}* I_{G}(GAS)  - \\frac{9}{16}* I_{G}(NEV) = 0.060 $\n",
    "\n",
    "    <br></br>\n",
    "\n",
    "    * `Style`\n",
    "\n",
    "        | Preference  | Sedan | SUV |\n",
    "        | ----- | ------ | ------ |\n",
    "        | Yes    | 5     |  5     |\n",
    "        | No    | 3    |    3  |\n",
    "\n",
    "        $ I_{G}(Sedan) = 1 - \\frac{3}{8}^{2}- \\frac{5}{8}^{2} = 0.46875 $\n",
    "\n",
    "        $ I_{G}(SUV) = 1 - \\frac{3}{8}^{2}- \\frac{5}{8}^{2} = 0.46875 $\n",
    "\n",
    "        $ IG(Style) = I_{G} - \\frac{8}{16}* I_{G}(Sedan)  - \\frac{8}{16}* I_{G}(SUV) = 0 $\n",
    "\n",
    "    <br></br>\n",
    "\n",
    "    * `Price`\n",
    "\n",
    "        | Preference  | Regular | Luxury |\n",
    "        | ----- | ------ | ------ |\n",
    "        | Yes    | 6     |  4     |\n",
    "        | No    | 2    |    4  |\n",
    "\n",
    "        $ I_{G}(Regular) = 1 - \\frac{2}{8}^{2}- \\frac{6}{8}^{2} = 0.375 $\n",
    "\n",
    "        $ I_{G}(Luxury) = 1 - \\frac{4}{8}^{2}- \\frac{4}{8}^{2} = 0.5 $\n",
    "\n",
    "    <br></br>\n",
    "\n",
    "    $ \\color{red} IG(Price) = I_{G} - \\frac{8}{16}* I_{G}(Regular)  - \\frac{8}{16}* I_{G}(Luxury) = 0.03125 $\n",
    "\n",
    "\n"
   ]
  },
  {
   "cell_type": "markdown",
   "metadata": {},
   "source": [
    "3. $ IG(Engine) > IG(Price) > IG(Style) $.\n",
    "\n",
    "    Therefore, using Engine as the root node maximizes the information gain. We can conclude that the feature $\\color{gold}\\bold{\\mathit{Engine}}$ is the most important to predict preference."
   ]
  }
 ],
 "metadata": {
  "kernelspec": {
   "display_name": "Python 3.8.8 ('base')",
   "language": "python",
   "name": "python3"
  },
  "language_info": {
   "codemirror_mode": {
    "name": "ipython",
    "version": 3
   },
   "file_extension": ".py",
   "mimetype": "text/x-python",
   "name": "python",
   "nbconvert_exporter": "python",
   "pygments_lexer": "ipython3",
   "version": "3.8.8"
  },
  "vscode": {
   "interpreter": {
    "hash": "dba9a1b7c242a8addef874295647b1fe596a2a28f28cc66ff66dfe513bbd0ac9"
   }
  }
 },
 "nbformat": 4,
 "nbformat_minor": 2
}
