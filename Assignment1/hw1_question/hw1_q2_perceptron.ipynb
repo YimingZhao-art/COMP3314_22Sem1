{
 "cells": [
  {
   "cell_type": "markdown",
   "id": "75eb9fe0",
   "metadata": {},
   "source": [
    "# COMP3314 HW1-Q2: Perceptron Boolean Operators (10 points)"
   ]
  },
  {
   "cell_type": "markdown",
   "id": "fd2a4cc0",
   "metadata": {},
   "source": [
    "In this question, we will build on question Q1-2 and implement boolean logic operators using perceptrons. We will implement the following operators:  `NOT`, `AND`, `OR`, `NAND`, `NOR`.\n",
    "\n",
    "The results of the perceptron should match the results in Q1-2. In this question, we use 0 to represent `False` and 1 to represent `True`.\n",
    "\n",
    "Your tasks:\n",
    "\n",
    "1. Implement `AND`, `OR`, `NAND`, `NOR` operators with perceptrons. The `NOT` operator is already implemented for you as a reference. Note that other operators requires two inputs `(x1, x2)`, but the `NOT` operator only requires one input `(x1)`. \n",
    "2. Run the perceptron model with the following inputs: `[(0, 0), (0, 1), (1, 0), (1, 1)]`. You should print the outputs and match them with the results in Q1-2."
   ]
  },
  {
   "cell_type": "markdown",
   "id": "ae1b5bd6",
   "metadata": {},
   "source": [
    "## 1. `NOT` Operator"
   ]
  },
  {
   "cell_type": "code",
   "execution_count": 12,
   "id": "875d409e",
   "metadata": {},
   "outputs": [
    {
     "name": "stdout",
     "output_type": "stream",
     "text": [
      "NOT(0) = 1\n",
      "NOT(1) = 0\n"
     ]
    }
   ],
   "source": [
    "class PerceptronNOT:\n",
    "\n",
    "    def __init__(self):\n",
    "        self.w0 = 0.5\n",
    "        self.w1 = -1\n",
    "\n",
    "    def decision_function(self, z):\n",
    "        return 1 if z >= 0 else 0\n",
    "\n",
    "    def forward(self, x1):\n",
    "        z = self.w0 + self.w1 * x1\n",
    "        phi_z = self.decision_function(z)\n",
    "        return phi_z\n",
    "\n",
    "\n",
    "model = PerceptronNOT()\n",
    "for x1 in [0, 1]:\n",
    "    print(f\"NOT({x1}) = {model.forward(x1)}\")"
   ]
  },
  {
   "cell_type": "markdown",
   "id": "d9464635",
   "metadata": {},
   "source": [
    "## 2. `AND` Operator"
   ]
  },
  {
   "cell_type": "code",
   "execution_count": 14,
   "id": "d7819474",
   "metadata": {},
   "outputs": [
    {
     "name": "stdout",
     "output_type": "stream",
     "text": [
      "AND((0, 0)) = 0\n",
      "AND((1, 0)) = 0\n",
      "AND((0, 1)) = 0\n",
      "AND((1, 1)) = 1\n"
     ]
    }
   ],
   "source": [
    "# Your code here:\n",
    "class PerceptronAND:\n",
    "\n",
    "    def __init__(self):\n",
    "        self.w0 = -2\n",
    "        self.w1 = 1\n",
    "        self.w2 = 1\n",
    "\n",
    "    def decision_function(self, z):\n",
    "        return 1 if z >= 0 else 0\n",
    "\n",
    "    def forward(self, x1, x2):\n",
    "        z = self.w0 + self.w1 * x1 + self.w2 * x2\n",
    "        phi_z = self.decision_function(z)\n",
    "        return phi_z\n",
    "\n",
    "\n",
    "model1 = PerceptronAND()\n",
    "for x1,x2 in [(0, 0), (1,0), (0,1),(1,1)]:\n",
    "    print(f\"AND({x1,x2}) = {model1.forward(x1,x2)}\")"
   ]
  },
  {
   "cell_type": "markdown",
   "id": "bf1c124c",
   "metadata": {},
   "source": [
    "## 3. `OR` Operator"
   ]
  },
  {
   "cell_type": "code",
   "execution_count": 15,
   "id": "1475e475",
   "metadata": {},
   "outputs": [
    {
     "name": "stdout",
     "output_type": "stream",
     "text": [
      "OR((0, 0)) = 0\n",
      "OR((1, 0)) = 1\n",
      "OR((0, 1)) = 1\n",
      "OR((1, 1)) = 1\n"
     ]
    }
   ],
   "source": [
    "# Your code here:\n",
    "# Your code here:\n",
    "class PerceptronOR:\n",
    "\n",
    "    def __init__(self):\n",
    "        self.w0 = -1\n",
    "        self.w1 = 1\n",
    "        self.w2 = 1\n",
    "\n",
    "    def decision_function(self, z):\n",
    "        return 1 if z >= 0 else 0\n",
    "\n",
    "    def forward(self, x1, x2):\n",
    "        z = self.w0 + self.w1 * x1 + self.w2 * x2\n",
    "        phi_z = self.decision_function(z)\n",
    "        return phi_z\n",
    "\n",
    "\n",
    "model2 = PerceptronOR()\n",
    "for x1,x2 in [(0, 0), (1,0), (0,1),(1,1)]:\n",
    "    print(f\"OR({x1,x2}) = {model2.forward(x1,x2)}\")"
   ]
  },
  {
   "cell_type": "markdown",
   "id": "b1cc85f1",
   "metadata": {},
   "source": [
    "## 4. `NAND` Operator"
   ]
  },
  {
   "cell_type": "code",
   "execution_count": 16,
   "id": "ce1b3b91",
   "metadata": {},
   "outputs": [
    {
     "name": "stdout",
     "output_type": "stream",
     "text": [
      "NAND((0, 0)) = 1\n",
      "NAND((1, 0)) = 1\n",
      "NAND((0, 1)) = 1\n",
      "NAND((1, 1)) = 0\n"
     ]
    }
   ],
   "source": [
    "# Your code here:\n",
    "# Your code here:\n",
    "# Your code here:\n",
    "class PerceptronNAND:\n",
    "\n",
    "    def __init__(self):\n",
    "        self.w0 = 1\n",
    "        self.w1 = -1\n",
    "        self.w2 = -1\n",
    "\n",
    "    def decision_function(self, z):\n",
    "        return 1 if z >= 0 else 0\n",
    "\n",
    "    def forward(self, x1, x2):\n",
    "        z = self.w0 + self.w1 * x1 + self.w2 * x2\n",
    "        phi_z = self.decision_function(z)\n",
    "        return phi_z\n",
    "\n",
    "\n",
    "model3 = PerceptronNAND()\n",
    "for x1,x2 in [(0, 0), (1,0), (0,1),(1,1)]:\n",
    "    print(f\"NAND({x1,x2}) = {model3.forward(x1,x2)}\")"
   ]
  },
  {
   "cell_type": "markdown",
   "id": "06d7a2af",
   "metadata": {},
   "source": [
    "## 5. `NOR` Operator"
   ]
  },
  {
   "cell_type": "code",
   "execution_count": 17,
   "id": "5be34b2a",
   "metadata": {},
   "outputs": [
    {
     "name": "stdout",
     "output_type": "stream",
     "text": [
      "NOR((0, 0)) = 1\n",
      "NOR((1, 0)) = 0\n",
      "NOR((0, 1)) = 0\n",
      "NOR((1, 1)) = 0\n"
     ]
    }
   ],
   "source": [
    "# Your code here:\n",
    "# Your code here:\n",
    "# Your code here:\n",
    "# Your code here:\n",
    "class PerceptronNOR:\n",
    "\n",
    "    def __init__(self):\n",
    "        self.w0 = 0\n",
    "        self.w1 = -1\n",
    "        self.w2 = -1\n",
    "\n",
    "    def decision_function(self, z):\n",
    "        return 1 if z >= 0 else 0\n",
    "\n",
    "    def forward(self, x1, x2):\n",
    "        z = self.w0 + self.w1 * x1 + self.w2 * x2\n",
    "        phi_z = self.decision_function(z)\n",
    "        return phi_z\n",
    "\n",
    "\n",
    "model4 = PerceptronNOR()\n",
    "for x1,x2 in [(0, 0), (1,0), (0,1),(1,1)]:\n",
    "    print(f\"NOR({x1,x2}) = {model4.forward(x1,x2)}\")"
   ]
  }
 ],
 "metadata": {
  "kernelspec": {
   "display_name": "Python 3.8.8 ('base')",
   "language": "python",
   "name": "python3"
  },
  "language_info": {
   "codemirror_mode": {
    "name": "ipython",
    "version": 3
   },
   "file_extension": ".py",
   "mimetype": "text/x-python",
   "name": "python",
   "nbconvert_exporter": "python",
   "pygments_lexer": "ipython3",
   "version": "3.8.8"
  },
  "vscode": {
   "interpreter": {
    "hash": "dba9a1b7c242a8addef874295647b1fe596a2a28f28cc66ff66dfe513bbd0ac9"
   }
  }
 },
 "nbformat": 4,
 "nbformat_minor": 5
}
