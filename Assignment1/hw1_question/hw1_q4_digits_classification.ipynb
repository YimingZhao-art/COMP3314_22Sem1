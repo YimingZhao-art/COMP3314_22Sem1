{
 "cells": [
  {
   "cell_type": "markdown",
   "metadata": {
    "id": "0AUwbFEaMiWi"
   },
   "source": [
    "# COMP3314 HW1-Q4: Hand-written Digits Classification (20 points)"
   ]
  },
  {
   "cell_type": "markdown",
   "metadata": {
    "id": "s9RyhbgDaXSh"
   },
   "source": [
    "In chapter 3 sample codes, we applied different scikit-learn classifiers for the Iris data set. In this question, we will use the classifiers over another data set: hand-written digits.\n",
    "\n",
    "Your tasks:\n",
    "\n",
    "1. Split the dataset into a training set and a test set.\n",
    "2. Create classifiers from scikit-learn and set their hyper-parameters. The classifiers include:\n",
    "   * Perceptron\n",
    "   * Logistic regression\n",
    "   * SVM\n",
    "   * Decision tree\n",
    "   * Random forest\n",
    "   * kNN\n",
    "3. Train your classifiers with the training set.\n",
    "4. Evaluate your classifiers with the test set.\n",
    "5. Compare the performance of the classifiers. Which classifier(s) perform(s) the best and worst, and why?\n"
   ]
  },
  {
   "cell_type": "code",
   "execution_count": 1,
   "metadata": {
    "ExecuteTime": {
     "end_time": "2022-09-27T00:38:58.685754Z",
     "start_time": "2022-09-27T00:38:58.224601Z"
    },
    "colab": {
     "base_uri": "https://localhost:8080/",
     "height": 52
    },
    "executionInfo": {
     "elapsed": 1354,
     "status": "ok",
     "timestamp": 1601878856611,
     "user": {
      "displayName": "Dirk Schnieders",
      "photoUrl": "https://lh3.googleusercontent.com/a-/AOh14GgODgJcz0dePD_sWYiYf2tTtBmdcj8_jP8_OvLy9g=s64",
      "userId": "16819858730100554095"
     },
     "user_tz": -480
    },
    "id": "G34BD-WdaneG",
    "outputId": "12c5a139-84e3-45ba-c14c-07e5fe6e8fca"
   },
   "outputs": [
    {
     "name": "stdout",
     "output_type": "stream",
     "text": [
      "(1797, 64)\n",
      "(1797,)\n"
     ]
    }
   ],
   "source": [
    "from sklearn.datasets import load_digits\n",
    "import matplotlib.pyplot as plt\n",
    "import matplotlib as mpl\n",
    "\n",
    "digits = load_digits()\n",
    "\n",
    "xs = digits.data\n",
    "ys = digits.target\n",
    "\n",
    "print(xs.shape)\n",
    "print(ys.shape)"
   ]
  },
  {
   "cell_type": "code",
   "execution_count": 2,
   "metadata": {
    "ExecuteTime": {
     "end_time": "2022-09-27T00:38:59.020649Z",
     "start_time": "2022-09-27T00:38:58.686849Z"
    },
    "colab": {
     "base_uri": "https://localhost:8080/",
     "height": 602
    },
    "executionInfo": {
     "elapsed": 1659,
     "status": "ok",
     "timestamp": 1601878859720,
     "user": {
      "displayName": "Dirk Schnieders",
      "photoUrl": "https://lh3.googleusercontent.com/a-/AOh14GgODgJcz0dePD_sWYiYf2tTtBmdcj8_jP8_OvLy9g=s64",
      "userId": "16819858730100554095"
     },
     "user_tz": -480
    },
    "id": "fGu93j6CaqLq",
    "outputId": "57f8db31-4d3f-409e-876c-88aff812d40b"
   },
   "outputs": [
    {
     "data": {
      "image/png": "[encoded data removed]",
      "text/plain": [
       "<Figure size 900x600 with 20 Axes>"
      ]
     },
     "metadata": {},
     "output_type": "display_data"
    }
   ],
   "source": [
    "mpl.rcParams[\"figure.dpi\"] = 150\n",
    "num_rows = 4\n",
    "num_cols = 5\n",
    "fig, ax = plt.subplots(nrows=num_rows, ncols=num_cols, sharex=True, sharey=True)\n",
    "ax = ax.flatten()\n",
    "\n",
    "for index in range(num_rows * num_cols):\n",
    "    img = digits.images[index]\n",
    "    label = digits.target[index]\n",
    "    ax[index].imshow(img, cmap=\"Greys\", interpolation=\"nearest\")\n",
    "    ax[index].set_title(\"digit \" + str(label))\n",
    "\n",
    "ax[0].set_xticks([])\n",
    "ax[0].set_yticks([])\n",
    "plt.tight_layout()\n",
    "plt.show()"
   ]
  },
  {
   "cell_type": "markdown",
   "metadata": {
    "id": "Vrz6Lwxja7XB"
   },
   "source": [
    "## Data Preprocessing"
   ]
  },
  {
   "cell_type": "code",
   "execution_count": 3,
   "metadata": {
    "ExecuteTime": {
     "end_time": "2022-09-27T00:38:59.147493Z",
     "start_time": "2022-09-27T00:38:59.021524Z"
    },
    "id": "OJW5hPNkbAT4"
   },
   "outputs": [],
   "source": [
    "from sklearn.model_selection import train_test_split\n",
    "import numpy as np\n",
    "\n",
    "def get_accuracy(ys, ys_pred):\n",
    "    assert ys.shape == ys_pred.shape\n",
    "    assert ys.ndim == 1\n",
    "    return np.sum(ys == ys_pred) / len(ys)\n",
    "\n",
    "xs_train, xs_test, ys_train, ys_test = train_test_split(xs,\n",
    "                                                        ys,\n",
    "                                                        test_size=0.1,\n",
    "                                                        stratify=ys)"
   ]
  },
  {
   "cell_type": "markdown",
   "metadata": {
    "id": "GX6bWDjCLoIr"
   },
   "source": [
    "## Classifier #1 Perceptron"
   ]
  },
  {
   "cell_type": "code",
   "execution_count": 4,
   "metadata": {
    "ExecuteTime": {
     "end_time": "2022-09-27T00:38:59.426143Z",
     "start_time": "2022-09-27T00:38:59.148821Z"
    },
    "id": "lYkmrjmrLoIr"
   },
   "outputs": [
    {
     "name": "stdout",
     "output_type": "stream",
     "text": [
      "eta0 = 0.0001, accuracy = 0.9333\n",
      "eta0 = 0.0010, accuracy = 0.9222\n",
      "eta0 = 0.0100, accuracy = 0.9222\n",
      "eta0 = 0.1000, accuracy = 0.9167\n",
      "eta0 = 1.0000, accuracy = 0.9222\n"
     ]
    }
   ],
   "source": [
    "# Example code, including training and testing, to observe the accuracies.\n",
    "from sklearn.linear_model import Perceptron\n",
    "\n",
    "# Tune the eta0 hyperparameter.\n",
    "eat0_list = [0.0001, 0.001, 0.01, 0.1, 1]\n",
    "\n",
    "# Your code here.\n",
    "accuracies = []\n",
    "for eta0 in eat0_list:\n",
    "    model = Perceptron(max_iter=100, tol=1e-3, eta0=eta0)\n",
    "    model.fit(xs_train, ys_train)\n",
    "    ys_pred = model.predict(xs_test)\n",
    "    accuracy = get_accuracy(ys_test, ys_pred)\n",
    "    accuracies.append(accuracy)\n",
    "\n",
    "for eta0, accuracy in zip(eat0_list, accuracies):\n",
    "    print(f\"eta0 = {eta0:.4f}, accuracy = {accuracy:.4f}\")"
   ]
  },
  {
   "cell_type": "markdown",
   "metadata": {
    "id": "yfoFni6tLoIv"
   },
   "source": [
    "## Classifier #2 Logistic Regression"
   ]
  },
  {
   "cell_type": "code",
   "execution_count": 15,
   "metadata": {
    "ExecuteTime": {
     "end_time": "2022-09-27T00:39:01.069959Z",
     "start_time": "2022-09-27T00:38:59.426955Z"
    },
    "id": "eggDI2swLoIv"
   },
   "outputs": [
    {
     "name": "stdout",
     "output_type": "stream",
     "text": [
      "C = 0.0010, accuracy = 0.9667\n",
      "C = 0.0010, accuracy = 0.9667\n",
      "C = 0.0100, accuracy = 0.9722\n",
      "C = 1.0000, accuracy = 0.9611\n",
      "C = 10.0000, accuracy = 0.9556\n",
      "C = 100.0000, accuracy = 0.9556\n"
     ]
    }
   ],
   "source": [
    "# Your code, including training and testing, to observe the accuracies.\n",
    "\n",
    "from sklearn.linear_model import LogisticRegression\n",
    "\n",
    "# Tune the C hyperparameter.\n",
    "C_list = [1e-3, 0.001, 0.01, 1, 10, 100]\n",
    "\n",
    "# Your code here.\n",
    "accuracies1 = []\n",
    "for C in C_list:\n",
    "    model = LogisticRegression(C=C, tol=1e-3,multi_class=\"ovr\",solver='liblinear',max_iter=100,penalty='l2')\n",
    "    model.fit(xs_train, ys_train)\n",
    "    ys_pred = model.predict(xs_test)\n",
    "    accuracy = get_accuracy(ys_test, ys_pred)\n",
    "    accuracies1.append(accuracy)\n",
    "\n",
    "for C, accuracy in zip(C_list, accuracies1):\n",
    "    print(f\"C = {C:.4f}, accuracy = {accuracy:.4f}\")"
   ]
  },
  {
   "cell_type": "markdown",
   "metadata": {
    "id": "4hlwLV3RLoIz"
   },
   "source": [
    "## Classifier #3 SVM"
   ]
  },
  {
   "cell_type": "code",
   "execution_count": 49,
   "metadata": {
    "ExecuteTime": {
     "end_time": "2022-09-27T00:39:01.499751Z",
     "start_time": "2022-09-27T00:39:01.071098Z"
    },
    "id": "jWracruvLoI0"
   },
   "outputs": [
    {
     "name": "stdout",
     "output_type": "stream",
     "text": [
      "alpha = 0.000100, accuracy = 0.9389\n",
      "alpha = 0.001000, accuracy = 0.9611\n",
      "alpha = 0.010000, accuracy = 0.9500\n",
      "alpha = 0.100000, accuracy = 0.9556\n",
      "alpha = 1.000000, accuracy = 0.9611\n",
      "alpha = 10.000000, accuracy = 0.9056\n"
     ]
    }
   ],
   "source": [
    "# Your code, including training and testing, to observe the accuracies.\n",
    "\n",
    "from sklearn.linear_model import SGDClassifier\n",
    "\n",
    "# Tune the alpha hyperparameter.\n",
    "alpha_list = [0.0001, 0.001, 0.01, 0.1, 1, 10]\n",
    "\n",
    "# Your code here.\n",
    "accuracies2 = []\n",
    "for a in alpha_list:\n",
    "    model = SGDClassifier(alpha=a, tol=1e-3,max_iter=100,penalty='l2', random_state = 1)\n",
    "    model.fit(xs_train, ys_train)\n",
    "    ys_pred = model.predict(xs_test)\n",
    "    accuracy = get_accuracy(ys_test, ys_pred)\n",
    "    accuracies2.append(accuracy)\n",
    "\n",
    "for a, accuracy in zip(alpha_list, accuracies2):\n",
    "    print(f\"alpha = {a:4f}, accuracy = {accuracy:.4f}\")"
   ]
  },
  {
   "cell_type": "markdown",
   "metadata": {
    "id": "OjozjBQ8LoI4"
   },
   "source": [
    "## Classifier #4 Decision Tree"
   ]
  },
  {
   "cell_type": "code",
   "execution_count": 46,
   "metadata": {
    "ExecuteTime": {
     "end_time": "2022-09-27T00:39:01.752926Z",
     "start_time": "2022-09-27T00:39:01.501148Z"
    },
    "id": "inw3NjgQLoI4"
   },
   "outputs": [
    {
     "name": "stdout",
     "output_type": "stream",
     "text": [
      "max_depth =   12, accuracy = 0.8611\n",
      "max_depth =   25, accuracy = 0.8500\n",
      "max_depth =   50, accuracy = 0.8500\n",
      "max_depth = None, accuracy = 0.8500\n"
     ]
    }
   ],
   "source": [
    "# Your code, including training and testing, to observe the accuracies.\n",
    "\n",
    "from sklearn.tree import DecisionTreeClassifier\n",
    "\n",
    "# Tune the max_depth hyperparameter.\n",
    "max_depth_list = [12, 25, 50, None]\n",
    "\n",
    "# Your code here.\n",
    "accuracies3 = []\n",
    "for h in max_depth_list:\n",
    "    model = DecisionTreeClassifier(criterion=\"gini\",max_depth=h,random_state = 1)\n",
    "    model.fit(xs_train, ys_train)\n",
    "    ys_pred = model.predict(xs_test)\n",
    "    accuracy = get_accuracy(ys_test, ys_pred)\n",
    "    accuracies3.append(accuracy)\n",
    "\n",
    "for h, accuracy in zip(max_depth_list, accuracies3):\n",
    "    if h:\n",
    "        print(f\"max_depth = {h:4}, accuracy = {accuracy:.4f}\")\n",
    "    else:\n",
    "        print(f\"max_depth = {h}, accuracy = {accuracy:.4f}\")"
   ]
  },
  {
   "cell_type": "markdown",
   "metadata": {
    "id": "hIVcFJhELoI8"
   },
   "source": [
    "## Classifier #5 Random Forest"
   ]
  },
  {
   "cell_type": "code",
   "execution_count": 54,
   "metadata": {
    "ExecuteTime": {
     "end_time": "2022-09-27T00:39:05.820565Z",
     "start_time": "2022-09-27T00:39:01.753777Z"
    },
    "id": "ZsFgIgVKLoI8"
   },
   "outputs": [
    {
     "name": "stdout",
     "output_type": "stream",
     "text": [
      "n_estimator =  10, accuracy = 0.9500\n",
      "n_estimator =  50, accuracy = 0.9667\n",
      "n_estimator = 100, accuracy = 0.9722\n",
      "n_estimator = 200, accuracy = 0.9667\n"
     ]
    }
   ],
   "source": [
    "# Your code, including training and testing, to observe the accuracies.\n",
    "\n",
    "from sklearn.ensemble import RandomForestClassifier\n",
    "\n",
    "# Tune the n_estimators hyperparameter.\n",
    "n_estimators_list = [10, 50, 100, 200]\n",
    "\n",
    "# Your code here.\n",
    "accuracies4 = []\n",
    "for n in n_estimators_list:\n",
    "    model = RandomForestClassifier(n_estimators=n, criterion=\"gini\", n_jobs=5, max_depth=None)\n",
    "    model.fit(xs_train, ys_train)\n",
    "    ys_pred = model.predict(xs_test)\n",
    "    accuracy = get_accuracy(ys_test, ys_pred)\n",
    "    accuracies4.append(accuracy)\n",
    "\n",
    "for n, accuracy in zip(n_estimators_list, accuracies4):\n",
    "    print(f\"n_estimator = {n:3}, accuracy = {accuracy:.4f}\")"
   ]
  },
  {
   "cell_type": "markdown",
   "metadata": {
    "id": "OQWwURjyLoI_"
   },
   "source": [
    "## Classifier #6 KNN"
   ]
  },
  {
   "cell_type": "code",
   "execution_count": 50,
   "metadata": {
    "ExecuteTime": {
     "end_time": "2022-09-27T00:39:06.224941Z",
     "start_time": "2022-09-27T00:39:05.822002Z"
    },
    "id": "afe9Rn3FLoJA"
   },
   "outputs": [
    {
     "name": "stdout",
     "output_type": "stream",
     "text": [
      "n_neighbors =  2, accuracy = 0.9833\n",
      "n_neighbors =  3, accuracy = 0.9833\n",
      "n_neighbors =  5, accuracy = 0.9778\n",
      "n_neighbors = 10, accuracy = 0.9778\n",
      "n_neighbors = 20, accuracy = 0.9778\n"
     ]
    }
   ],
   "source": [
    "# Your code, including training and testing, to observe the accuracies.\n",
    "\n",
    "from sklearn.neighbors import KNeighborsClassifier\n",
    "\n",
    "# Tune the n_neighbors hyperparameter.\n",
    "n_neighbors_list = [2, 3, 5, 10, 20]\n",
    "\n",
    "# Your code here.\n",
    "accuracies5 = []\n",
    "for n in n_neighbors_list:\n",
    "    model = KNeighborsClassifier(n_neighbors=n,p=2, metric=\"minkowski\")\n",
    "    model.fit(xs_train, ys_train)\n",
    "    ys_pred = model.predict(xs_test)\n",
    "    accuracy = get_accuracy(ys_test, ys_pred)\n",
    "    accuracies5.append(accuracy)\n",
    "\n",
    "for n, accuracy in zip(n_neighbors_list, accuracies5):\n",
    "    print(f\"n_neighbors = {n:2}, accuracy = {accuracy:.4f}\")"
   ]
  },
  {
   "cell_type": "markdown",
   "metadata": {
    "id": "YkgMDYz7ddTe"
   },
   "source": [
    "## Discussions\n",
    "\n",
    "Compare the performance of the classifiers. Which classifier(s) perform(s) the best and worst, and why?"
   ]
  },
  {
   "cell_type": "markdown",
   "metadata": {},
   "source": [
    "### Answer:\n",
    "\n",
    "Since we have already to test different parameters. We can use the best accuracy to represent the accuracy of each classifier.\n",
    "\n",
    "1. Perceptron 0.9333\n",
    "2. Logistic Regression (OvR) 0.9722\n",
    "3. SVM 0.9611\n",
    "4. Decision Tree 0.8611\n",
    "5. Random Forest 0.9667\n",
    "6. KNN 0.9833\n",
    "\n",
    "Therefore, we conclude that Decision Tree is the worst while KNN is the best.\n",
    "\n",
    "Decision tree is the worst. Because it has so many possible nodes to split. Each pixel can be regarded as an attribute.\n",
    "\n",
    "KNN is the best according to the accuracy. However, it is a lazy algorithm. It uses up a lot of memory. When the data is numerous, it costs a lot. Random Forest and Logistic Regression are also good classifiers."
   ]
  },
  {
   "cell_type": "markdown",
   "metadata": {},
   "source": []
  }
 ],
 "metadata": {
  "colab": {
   "authorship_tag": "ABX9TyO1gQEo3McgnSelg/4BL/PW",
   "collapsed_sections": [],
   "name": "Comp3314 2021 Assignment 1",
   "provenance": []
  },
  "kernelspec": {
   "display_name": "Python 3.8.8 ('base')",
   "language": "python",
   "name": "python3"
  },
  "language_info": {
   "codemirror_mode": {
    "name": "ipython",
    "version": 3
   },
   "file_extension": ".py",
   "mimetype": "text/x-python",
   "name": "python",
   "nbconvert_exporter": "python",
   "pygments_lexer": "ipython3",
   "version": "3.8.8"
  },
  "vscode": {
   "interpreter": {
    "hash": "dba9a1b7c242a8addef874295647b1fe596a2a28f28cc66ff66dfe513bbd0ac9"
   }
  }
 },
 "nbformat": 4,
 "nbformat_minor": 1
}
