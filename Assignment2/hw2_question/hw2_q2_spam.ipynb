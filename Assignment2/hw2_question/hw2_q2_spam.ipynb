{
 "cells": [
  {
   "cell_type": "markdown",
   "metadata": {
    "id": "0AUwbFEaMiWi"
   },
   "source": [
    "# COMP3314 - Assignment 2\n",
    "\n",
    "## Question 2: Spam classifier (20 Points)"
   ]
  },
  {
   "cell_type": "code",
   "execution_count": 1,
   "metadata": {},
   "outputs": [],
   "source": [
    "import string\n",
    "import warnings\n",
    "warnings.filterwarnings(\"ignore\")"
   ]
  },
  {
   "cell_type": "markdown",
   "metadata": {
    "ExecuteTime": {
     "end_time": "2022-10-26T18:21:06.553305Z",
     "start_time": "2022-10-26T18:21:06.548561Z"
    }
   },
   "source": [
    "### Step 1: Download dataset\n",
    "Download examples of spam and ham from Apache SpamAssassin’s public datasets. Split the datasets into a training set and a test set. "
   ]
  },
  {
   "cell_type": "code",
   "execution_count": 1,
   "metadata": {
    "ExecuteTime": {
     "end_time": "2022-10-27T05:05:59.155299Z",
     "start_time": "2022-10-27T05:05:58.015019Z"
    },
    "colab": {
     "base_uri": "https://localhost:8080/"
    },
    "id": "vbs5g3YbuH59",
    "outputId": "7281e567-7b36-4d9c-91a7-fb34b857b3dd"
   },
   "outputs": [
    {
     "name": "stdout",
     "output_type": "stream",
     "text": [
      "The number of training samples: 2436\n",
      "The number of test samples: 610\n"
     ]
    }
   ],
   "source": [
    "import os\n",
    "import numpy as np\n",
    "import glob\n",
    "from urllib.request import urlretrieve\n",
    "import tarfile\n",
    "import shutil\n",
    "import sklearn.utils\n",
    "from sklearn.model_selection import train_test_split\n",
    "\n",
    "\n",
    "def download_dataset():\n",
    "\n",
    "    def download_url(url, dataset_dir=\"data\"):\n",
    "\n",
    "        tar_dir = os.path.join(dataset_dir, \"tar\")\n",
    "        if not os.path.isdir(tar_dir):\n",
    "            os.makedirs(tar_dir)\n",
    "\n",
    "        filename = url.rsplit(\"/\", 1)[-1]\n",
    "        tarpath = os.path.join(tar_dir, filename)\n",
    "\n",
    "        try:\n",
    "            tarfile.open(tarpath)\n",
    "        except:\n",
    "            urlretrieve(url, tarpath)\n",
    "\n",
    "        with tarfile.open(tarpath) as tar:\n",
    "            dirname = os.path.join(dataset_dir, tar.getnames()[0])\n",
    "            if os.path.isdir(dirname):\n",
    "                shutil.rmtree(dirname)\n",
    "            tar.extractall(path=dataset_dir)\n",
    "\n",
    "            cmds_path = os.path.join(dirname, \"cmds\")\n",
    "            if os.path.isfile(cmds_path):\n",
    "                os.remove(cmds_path)\n",
    "\n",
    "        return dirname\n",
    "\n",
    "    def load_dataset(dirpath):\n",
    "        files = []\n",
    "        filepaths = glob.glob(dirpath + \"/*\")\n",
    "        for path in filepaths:\n",
    "            with open(path, \"rb\") as f:\n",
    "                byte_content = f.read()\n",
    "                str_content = byte_content.decode(\"utf-8\", errors=\"ignore\")\n",
    "                files.append(str_content)\n",
    "        return files\n",
    "\n",
    "    spam_url = \"https://spamassassin.apache.org/old/publiccorpus/20050311_spam_2.tar.bz2\"\n",
    "    easy_ham_url = \"https://spamassassin.apache.org/old/publiccorpus/20030228_easy_ham_2.tar.bz2\"\n",
    "    hard_ham_dir = \"https://spamassassin.apache.org/old/publiccorpus/20030228_hard_ham.tar.bz2\"\n",
    "\n",
    "    spam = load_dataset(download_url(spam_url))\n",
    "    easy_ham = load_dataset(download_url(easy_ham_url))\n",
    "    hard_ham = load_dataset(download_url(hard_ham_dir))\n",
    "\n",
    "    X = spam + easy_ham + hard_ham\n",
    "    y = np.concatenate((\n",
    "        np.ones(len(spam)),\n",
    "        np.zeros(len(easy_ham) + len(hard_ham)),\n",
    "    ))\n",
    "\n",
    "    return X, y\n",
    "\n",
    "\n",
    "# Download dataset.\n",
    "X, y = download_dataset()\n",
    "\n",
    "# Split dataset into training and testing sets.\n",
    "X, y = sklearn.utils.shuffle(X, y, random_state=42)\n",
    "X_train, X_test, y_train, y_test = train_test_split(X,\n",
    "                                                    y,\n",
    "                                                    test_size=0.2,\n",
    "                                                    stratify=y,\n",
    "                                                    random_state=42)\n",
    "\n",
    "print(f\"The number of training samples: {len(X_train)}\")\n",
    "print(f\"The number of test samples: {len(X_test)}\")"
   ]
  },
  {
   "cell_type": "markdown",
   "metadata": {
    "id": "N4RYzHc0vsyi"
   },
   "source": [
    "### Step 2: Feature extraction (5 points)\n",
    "\n",
    "Next, we are going to do some data cleaning and feature extraction.\n",
    "\n",
    "1. Some data cleaning functions have been provided to you. You'll need to implement `lower_letters()`, `convert_num_to_word()`, and `remove_punctuation()`. These functions will convert email to lowercase, replace all numbers with \"NUM\", and remove punctuation.\n",
    "2. Convert each email into a feature vector. Your preparation pipeline should transform an email into a (sparse) vector that indicates the presence or absence of each possible word. For example, if all emails only ever contain four words, \"Hello,\" \"how,\" \"are,\" \"you,\" then the email \"Hello you Hello Hello you\" would be converted into a vector [1, 0, 0, 1] (meaning [\"Hello\" is present, \"how\" is absent, \"are\" is absent, \"you\" is present]), or [3, 0, 0, 2] if you prefer to count the number of occurrences of each word. You may check sklearn's `CountVectorizer` class for reference."
   ]
  },
  {
   "cell_type": "code",
   "execution_count": 2,
   "metadata": {
    "ExecuteTime": {
     "end_time": "2022-10-27T05:05:59.258405Z",
     "start_time": "2022-10-27T05:05:59.252825Z"
    },
    "colab": {
     "base_uri": "https://localhost:8080/"
    },
    "id": "fegetO2HwHBo",
    "outputId": "d5dce886-4db3-42ca-e6ac-d1bdd54476f1"
   },
   "outputs": [],
   "source": [
    "import re\n",
    "from sklearn.base import BaseEstimator, TransformerMixin\n",
    "from sklearn.pipeline import Pipeline\n",
    "\n",
    "\n",
    "class EmailCleaner(BaseEstimator, TransformerMixin):\n",
    "\n",
    "    def __init__(self,\n",
    "                 no_header=True,\n",
    "                 to_lowercase=True,\n",
    "                 url_to_word=True,\n",
    "                 num_to_word=True,\n",
    "                 remove_punc=True):\n",
    "        self.no_header = no_header\n",
    "        self.to_lowercase = to_lowercase\n",
    "        self.url_to_word = url_to_word\n",
    "        self.num_to_word = num_to_word\n",
    "        self.remove_punc = remove_punc\n",
    "\n",
    "    def fit(self, X, y=None):\n",
    "        return self\n",
    "\n",
    "    def transform(self, X, y=None):\n",
    "        X_cleaned = []\n",
    "        for email in X:\n",
    "            if self.no_header:\n",
    "                email = EmailCleaner.remove_header(email)\n",
    "            if self.to_lowercase:\n",
    "                email = EmailCleaner.lower_letters(email)\n",
    "\n",
    "            email_words = email.split()\n",
    "            if self.url_to_word:\n",
    "                email_words = EmailCleaner.convert_url_to_word(email_words)\n",
    "            if self.num_to_word:\n",
    "                email_words = EmailCleaner.convert_num_to_word(email_words)\n",
    "            email = \" \".join(email_words)\n",
    "            if self.remove_punc:\n",
    "                email = EmailCleaner.remove_punctuation(email)\n",
    "            X_cleaned.append(email)\n",
    "        return X_cleaned\n",
    "\n",
    "    @staticmethod\n",
    "    def remove_header(email):\n",
    "        return email[email.index(\"\\n\\n\"):]\n",
    "\n",
    "    @staticmethod\n",
    "    def is_url(s):\n",
    "        url = re.match(\n",
    "            \"http[s]?://(?:[a-zA-Z]|[0-9]|[$-_@.&+]|\"\n",
    "            \"[!*\\(\\), ]|(?:%[0-9a-fA-F][0-9a-fA-F]))+\", s)\n",
    "        return url is not None\n",
    "\n",
    "    @staticmethod\n",
    "    def convert_url_to_word(words):\n",
    "        for i, word in enumerate(words):\n",
    "            if EmailCleaner.is_url(word):\n",
    "                words[i] = \"URL\"\n",
    "        return words\n",
    "\n",
    "    @staticmethod\n",
    "    def lower_letters(email):\n",
    "        # === Your code here ===\n",
    "        return email.lower()\n",
    "        # ======================\n",
    "\n",
    "    @staticmethod\n",
    "    def convert_num_to_word(words):\n",
    "        # === Your code here ===\n",
    "        words_copy = []\n",
    "        for word in words:\n",
    "            if word.isdecimal():\n",
    "                words_copy.append(\"NUM\")\n",
    "            else:\n",
    "                words_copy.append(word)\n",
    "        return words_copy\n",
    "        # ======================\n",
    "\n",
    "    @staticmethod\n",
    "    def remove_punctuation(email):\n",
    "        # === Your code here ===\n",
    "        return re.sub(r'[^\\w\\s]', '', email)\n",
    "\n",
    "        # ======================"
   ]
  },
  {
   "cell_type": "code",
   "execution_count": 3,
   "metadata": {
    "ExecuteTime": {
     "end_time": "2022-10-27T05:06:00.474628Z",
     "start_time": "2022-10-27T05:06:00.471273Z"
    }
   },
   "outputs": [],
   "source": [
    "# Here are some unit tests to check your code.\n",
    "# Your code should at least pass the following tests.\n",
    "# Feel free to add more tests if you\"d like.\n",
    "\n",
    "# Check lower_letters().\n",
    "src_string = \"Message-Id: <LISTMANAGERSQL-25343\"\n",
    "dst_string = \"message-id: <listmanagersql-25343\"\n",
    "assert EmailCleaner.lower_letters(src_string) == dst_string\n",
    "\n",
    "# Check convert_num_to_word().\n",
    "src_string = \"Date: Wed, 10 Jul 2002\"\n",
    "src_words = src_string.split()\n",
    "dst_words = [\"Date:\", \"Wed,\", \"NUM\", \"Jul\", \"NUM\"]\n",
    "assert EmailCleaner.convert_num_to_word(src_words) == dst_words\n",
    "\n",
    "# Check remove_punctuation().\n",
    "src_string = \"superstars -- you'll find investing more fun...\"\n",
    "dst_string = \"superstars  youll find investing more fun\"\n",
    "assert EmailCleaner.remove_punctuation(src_string) == dst_string"
   ]
  },
  {
   "cell_type": "code",
   "execution_count": 4,
   "metadata": {
    "ExecuteTime": {
     "end_time": "2022-10-27T05:06:02.761239Z",
     "start_time": "2022-10-27T05:06:01.254913Z"
    }
   },
   "outputs": [
    {
     "name": "stdout",
     "output_type": "stream",
     "text": [
      "(2436, 109042)\n",
      "(610, 109042)\n"
     ]
    }
   ],
   "source": [
    "# Step 1 of pipeline: data cleaning.\n",
    "email_cleaner = EmailCleaner()\n",
    "\n",
    "# Step 2 of pipeline: CountVectorizer.\n",
    "# === Your code here ===\n",
    "from sklearn.feature_extraction.text import CountVectorizer\n",
    "count_vectorizer = CountVectorizer()\n",
    "# ======================\n",
    "\n",
    "# Build pipeline.\n",
    "prepare_pipeline = Pipeline([\n",
    "    (\"email_cleaner\", email_cleaner),\n",
    "    (\"count_vectorizer\", count_vectorizer),\n",
    "])\n",
    "\n",
    "# Run preprocessing.\n",
    "X_all = X_train + X_test\n",
    "prepare_pipeline.fit(X_all)\n",
    "X_all = prepare_pipeline.transform(X_all)\n",
    "num_train = len(X_train)\n",
    "X_train = X_all[:num_train]\n",
    "X_test = X_all[num_train:]\n",
    "\n",
    "print(X_train.shape)\n",
    "print(X_test.shape)"
   ]
  },
  {
   "cell_type": "markdown",
   "metadata": {
    "id": "AZYuW1qnvth8"
   },
   "source": [
    "### Step 3: Train a spam classifier (5 points)\n",
    "\n",
    "Next, let's build a spam classifier, and train your classifier with the training set."
   ]
  },
  {
   "cell_type": "code",
   "execution_count": 6,
   "metadata": {
    "ExecuteTime": {
     "end_time": "2022-10-27T05:06:25.443785Z",
     "start_time": "2022-10-27T05:06:25.420443Z"
    }
   },
   "outputs": [
    {
     "data": {
      "text/html": [
       "<style>#sk-container-id-1 {color: black;background-color: white;}#sk-container-id-1 pre{padding: 0;}#sk-container-id-1 div.sk-toggleable {background-color: white;}#sk-container-id-1 label.sk-toggleable__label {cursor: pointer;display: block;width: 100%;margin-bottom: 0;padding: 0.3em;box-sizing: border-box;text-align: center;}#sk-container-id-1 label.sk-toggleable__label-arrow:before {content: \"▸\";float: left;margin-right: 0.25em;color: #696969;}#sk-container-id-1 label.sk-toggleable__label-arrow:hover:before {color: black;}#sk-container-id-1 div.sk-estimator:hover label.sk-toggleable__label-arrow:before {color: black;}#sk-container-id-1 div.sk-toggleable__content {max-height: 0;max-width: 0;overflow: hidden;text-align: left;background-color: #f0f8ff;}#sk-container-id-1 div.sk-toggleable__content pre {margin: 0.2em;color: black;border-radius: 0.25em;background-color: #f0f8ff;}#sk-container-id-1 input.sk-toggleable__control:checked~div.sk-toggleable__content {max-height: 200px;max-width: 100%;overflow: auto;}#sk-container-id-1 input.sk-toggleable__control:checked~label.sk-toggleable__label-arrow:before {content: \"▾\";}#sk-container-id-1 div.sk-estimator input.sk-toggleable__control:checked~label.sk-toggleable__label {background-color: #d4ebff;}#sk-container-id-1 div.sk-label input.sk-toggleable__control:checked~label.sk-toggleable__label {background-color: #d4ebff;}#sk-container-id-1 input.sk-hidden--visually {border: 0;clip: rect(1px 1px 1px 1px);clip: rect(1px, 1px, 1px, 1px);height: 1px;margin: -1px;overflow: hidden;padding: 0;position: absolute;width: 1px;}#sk-container-id-1 div.sk-estimator {font-family: monospace;background-color: #f0f8ff;border: 1px dotted black;border-radius: 0.25em;box-sizing: border-box;margin-bottom: 0.5em;}#sk-container-id-1 div.sk-estimator:hover {background-color: #d4ebff;}#sk-container-id-1 div.sk-parallel-item::after {content: \"\";width: 100%;border-bottom: 1px solid gray;flex-grow: 1;}#sk-container-id-1 div.sk-label:hover label.sk-toggleable__label {background-color: #d4ebff;}#sk-container-id-1 div.sk-serial::before {content: \"\";position: absolute;border-left: 1px solid gray;box-sizing: border-box;top: 0;bottom: 0;left: 50%;z-index: 0;}#sk-container-id-1 div.sk-serial {display: flex;flex-direction: column;align-items: center;background-color: white;padding-right: 0.2em;padding-left: 0.2em;position: relative;}#sk-container-id-1 div.sk-item {position: relative;z-index: 1;}#sk-container-id-1 div.sk-parallel {display: flex;align-items: stretch;justify-content: center;background-color: white;position: relative;}#sk-container-id-1 div.sk-item::before, #sk-container-id-1 div.sk-parallel-item::before {content: \"\";position: absolute;border-left: 1px solid gray;box-sizing: border-box;top: 0;bottom: 0;left: 50%;z-index: -1;}#sk-container-id-1 div.sk-parallel-item {display: flex;flex-direction: column;z-index: 1;position: relative;background-color: white;}#sk-container-id-1 div.sk-parallel-item:first-child::after {align-self: flex-end;width: 50%;}#sk-container-id-1 div.sk-parallel-item:last-child::after {align-self: flex-start;width: 50%;}#sk-container-id-1 div.sk-parallel-item:only-child::after {width: 0;}#sk-container-id-1 div.sk-dashed-wrapped {border: 1px dashed gray;margin: 0 0.4em 0.5em 0.4em;box-sizing: border-box;padding-bottom: 0.4em;background-color: white;}#sk-container-id-1 div.sk-label label {font-family: monospace;font-weight: bold;display: inline-block;line-height: 1.2em;}#sk-container-id-1 div.sk-label-container {text-align: center;}#sk-container-id-1 div.sk-container {/* jupyter's `normalize.less` sets `[hidden] { display: none; }` but bootstrap.min.css set `[hidden] { display: none !important; }` so we also need the `!important` here to be able to override the default hidden behavior on the sphinx rendered scikit-learn.org. See: https://github.com/scikit-learn/scikit-learn/issues/21755 */display: inline-block !important;position: relative;}#sk-container-id-1 div.sk-text-repr-fallback {display: none;}</style><div id=\"sk-container-id-1\" class=\"sk-top-container\"><div class=\"sk-text-repr-fallback\"><pre>SGDClassifier(alpha=0.1, class_weight=&#x27;balanced&#x27;, max_iter=100, random_state=1)</pre><b>In a Jupyter environment, please rerun this cell to show the HTML representation or trust the notebook. <br />On GitHub, the HTML representation is unable to render, please try loading this page with nbviewer.org.</b></div><div class=\"sk-container\" hidden><div class=\"sk-item\"><div class=\"sk-estimator sk-toggleable\"><input class=\"sk-toggleable__control sk-hidden--visually\" id=\"sk-estimator-id-1\" type=\"checkbox\" checked><label for=\"sk-estimator-id-1\" class=\"sk-toggleable__label sk-toggleable__label-arrow\">SGDClassifier</label><div class=\"sk-toggleable__content\"><pre>SGDClassifier(alpha=0.1, class_weight=&#x27;balanced&#x27;, max_iter=100, random_state=1)</pre></div></div></div></div></div>"
      ],
      "text/plain": [
       "SGDClassifier(alpha=0.1, class_weight='balanced', max_iter=100, random_state=1)"
      ]
     },
     "execution_count": 6,
     "metadata": {},
     "output_type": "execute_result"
    }
   ],
   "source": [
    "# === Your code here ===\n",
    "from sklearn.linear_model import SGDClassifier\n",
    "clf1 = SGDClassifier(alpha=0.1, tol=1e-3,max_iter=100,penalty='l2', random_state = 1, loss='hinge', class_weight='balanced')\n",
    "clf1.fit(X_train, y_train)\n",
    "# ======================"
   ]
  },
  {
   "cell_type": "markdown",
   "metadata": {},
   "source": [
    "### Step 4: Eval your classifier\n",
    "\n",
    "Test your classifier with the test set and print the precision and recall."
   ]
  },
  {
   "cell_type": "code",
   "execution_count": 7,
   "metadata": {
    "ExecuteTime": {
     "end_time": "2022-10-27T05:06:26.371331Z",
     "start_time": "2022-10-27T05:06:26.364811Z"
    }
   },
   "outputs": [
    {
     "name": "stdout",
     "output_type": "stream",
     "text": [
      "SGDClassifier(alpha=0.1, class_weight='balanced', max_iter=100, random_state=1)\n",
      "Recall: 0.971\n",
      "Precision: 0.948\n"
     ]
    }
   ],
   "source": [
    "# === Your code here ===\n",
    "from sklearn.metrics import recall_score, precision_score\n",
    "y_pred = clf1.predict(X_test)\n",
    "print(clf1)\n",
    "print('Recall: %.3f' % recall_score(y_true=y_test, y_pred=y_pred))\n",
    "print('Precision: %.3f' % precision_score(y_true=y_test, y_pred=y_pred))\n",
    "# ======================"
   ]
  },
  {
   "cell_type": "markdown",
   "metadata": {
    "id": "ZTbxtjvHohqJ"
   },
   "source": [
    "### Step 5: Ensemble of classifiers (5 points)\n",
    "\n",
    "1. Implement 4 new classifiers (in total you have 5 claassifiers now).\n",
    "2. Use hard or soft voting to ensemble thoses classifiers.\n",
    "3. Train your ensemble model on the training set. Report training/testing precision and recall."
   ]
  },
  {
   "cell_type": "code",
   "execution_count": 13,
   "metadata": {
    "ExecuteTime": {
     "end_time": "2022-10-27T05:06:29.164535Z",
     "start_time": "2022-10-27T05:06:28.530051Z"
    },
    "colab": {
     "base_uri": "https://localhost:8080/"
    },
    "id": "QwS_cYldop6_",
    "outputId": "b88ccd6a-10c9-40f6-9486-3e62bc1ebfd4"
   },
   "outputs": [
    {
     "name": "stderr",
     "output_type": "stream",
     "text": [
      "/Users/yimingzhao/opt/anaconda3/lib/python3.8/site-packages/sklearn/linear_model/_sag.py:350: ConvergenceWarning: The max_iter was reached which means the coef_ did not converge\n",
      "  warnings.warn(\n",
      "/Users/yimingzhao/opt/anaconda3/lib/python3.8/site-packages/sklearn/linear_model/_sag.py:350: ConvergenceWarning: The max_iter was reached which means the coef_ did not converge\n",
      "  warnings.warn(\n"
     ]
    },
    {
     "name": "stdout",
     "output_type": "stream",
     "text": [
      "SGD\n",
      "Recall: 0.971\n",
      "Precision: 0.948\n",
      "=====================\n",
      "Logistic\n",
      "Recall: 0.936\n",
      "Precision: 0.919\n",
      "=====================\n",
      "Tree\n",
      "Recall: 0.946\n",
      "Precision: 0.930\n",
      "=====================\n",
      "kNN\n",
      "Recall: 0.943\n",
      "Precision: 0.913\n",
      "=====================\n",
      "SVM\n",
      "Recall: 0.889\n",
      "Precision: 0.954\n",
      "=====================\n",
      "Ensemble\n",
      "Recall: 0.964\n",
      "Precision: 0.957\n",
      "=====================\n"
     ]
    }
   ],
   "source": [
    "# === Your code here ===\n",
    "from sklearn.linear_model import LogisticRegression\n",
    "from sklearn.tree import DecisionTreeClassifier\n",
    "from sklearn.svm import SVC\n",
    "from sklearn.neighbors import KNeighborsClassifier\n",
    "import matplotlib.pyplot as plt\n",
    "clf2 = LogisticRegression(C=0.001, tol=1e-3,solver='saga',max_iter=100,penalty='l2', class_weight='balanced')\n",
    "clf3 = DecisionTreeClassifier(criterion=\"gini\",max_depth=20,random_state = 1, splitter = 'best',class_weight='balanced')\n",
    "clf4 = KNeighborsClassifier(n_neighbors=5, weights='uniform', algorithm='auto', leaf_size=30, p=2, metric='minkowski', metric_params=None, n_jobs=5)\n",
    "clf5 = SVC(kernel='rbf',class_weight='balanced')\n",
    "\n",
    "clf = [clf1, clf2, clf3, clf4, clf5]\n",
    "\n",
    "from sklearn.ensemble import VotingClassifier\n",
    "estimators = []\n",
    "for i, clf_ in enumerate(clf):\n",
    "    estimators.append(('clf'+str(i), clf_))\n",
    "eclf1 = VotingClassifier(estimators=estimators, n_jobs=4)\n",
    "eclf1.fit(X_train, y_train)\n",
    "y_pred = eclf1.predict(X_test)\n",
    "\n",
    "\n",
    "all_clf = [clf1, clf2, clf3, clf4, clf5, eclf1]\n",
    "clf_labels = ['SGD', \"Logistic\", \"Tree\", \"kNN\", \"SVM\", \"Ensemble\"]\n",
    "recall = []\n",
    "precision = []\n",
    "for clf_ in all_clf:\n",
    "    clf_.fit(X_train, y_train)\n",
    "    y_pred = clf_.predict(X_test)\n",
    "    recall.append(recall_score(y_true=y_test, y_pred=y_pred))\n",
    "    precision.append(precision_score(y_true=y_test, y_pred=y_pred))    \n",
    "\n",
    "for i in range(len(all_clf)):\n",
    "    print(clf_labels[i])\n",
    "    print('Recall: %.3f' % recall[i])\n",
    "    print('Precision: %.3f' % precision[i])\n",
    "    print('=====================')\n",
    "# ======================"
   ]
  },
  {
   "cell_type": "code",
   "execution_count": 16,
   "metadata": {},
   "outputs": [
    {
     "name": "stderr",
     "output_type": "stream",
     "text": [
      "/Users/yimingzhao/opt/anaconda3/lib/python3.8/site-packages/sklearn/linear_model/_sag.py:350: ConvergenceWarning: The max_iter was reached which means the coef_ did not converge\n",
      "  warnings.warn(\n"
     ]
    },
    {
     "data": {
      "image/png": "[encoded data removed]",
      "text/plain": [
       "<Figure size 576x432 with 1 Axes>"
      ]
     },
     "metadata": {
      "needs_background": "light"
     },
     "output_type": "display_data"
    }
   ],
   "source": [
    "from sklearn.metrics import roc_curve\n",
    "from sklearn.metrics import auc\n",
    "colors = ['black', 'orange', 'blue', 'green', 'red', 'purple']\n",
    "linestyles = [':', '--', '-.', '-', 'dotted', 'solid']\n",
    "plt.figure(figsize=(8, 6))\n",
    "for clf, label, clr, ls in zip(all_clf, clf_labels, colors, linestyles):\n",
    "    y_pred = clf.fit(X_train, y_train).predict(X_test)\n",
    "    fpr, tpr, thresholds = roc_curve(y_true=y_test, y_score=y_pred)\n",
    "    roc_auc = auc(x=fpr, y=tpr)\n",
    "    plt.plot(fpr, tpr, color=clr, linestyle=ls, label='%s (auc = %0.2f)' % (label, roc_auc))\n",
    "plt.legend(loc='lower right')\n",
    "plt.plot([0, 1], [0, 1], linestyle='--', color='gray', linewidth=2)\n",
    "plt.xlim([-0.1, 1.1])\n",
    "plt.ylim([-0.1, 1.1])\n",
    "plt.grid(alpha=0.5)\n",
    "plt.xlabel('False positive rate (FPR)')\n",
    "plt.ylabel('True positive rate (TPR)')\n",
    "plt.show()"
   ]
  },
  {
   "cell_type": "markdown",
   "metadata": {},
   "source": [
    "Therefore, we can see Ensemble classifier outperforms most of other classifiers I used."
   ]
  }
 ],
 "metadata": {
  "colab": {
   "collapsed_sections": [],
   "provenance": []
  },
  "kernelspec": {
   "display_name": "Python 3.8.8 ('base')",
   "language": "python",
   "name": "python3"
  },
  "language_info": {
   "codemirror_mode": {
    "name": "ipython",
    "version": 3
   },
   "file_extension": ".py",
   "mimetype": "text/x-python",
   "name": "python",
   "nbconvert_exporter": "python",
   "pygments_lexer": "ipython3",
   "version": "3.8.8"
  },
  "vscode": {
   "interpreter": {
    "hash": "dba9a1b7c242a8addef874295647b1fe596a2a28f28cc66ff66dfe513bbd0ac9"
   }
  }
 },
 "nbformat": 4,
 "nbformat_minor": 4
}
